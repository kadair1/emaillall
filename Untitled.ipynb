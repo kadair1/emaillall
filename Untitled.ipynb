{
 "cells": [
  {
   "cell_type": "code",
   "execution_count": 2,
   "id": "bdcfd2ca",
   "metadata": {},
   "outputs": [
    {
     "name": "stdout",
     "output_type": "stream",
     "text": [
      "Collecting modal\n",
      "  Downloading modal-0.52.3439-py3-none-any.whl (294 kB)\n",
      "\u001b[2K     \u001b[90m━━━━━━━━━━━━━━━━━━━━━━━━━━━━━━━━━━━━━\u001b[0m \u001b[32m295.0/295.0 kB\u001b[0m \u001b[31m663.8 kB/s\u001b[0m eta \u001b[36m0:00:00\u001b[0ma \u001b[36m0:00:01\u001b[0m\n",
      "\u001b[?25hCollecting grpclib==0.4.3\n",
      "  Downloading grpclib-0.4.3.tar.gz (62 kB)\n",
      "\u001b[2K     \u001b[90m━━━━━━━━━━━━━━━━━━━━━━━━━━━━━━━━━━━━━━━\u001b[0m \u001b[32m62.1/62.1 kB\u001b[0m \u001b[31m465.0 kB/s\u001b[0m eta \u001b[36m0:00:00\u001b[0m:--:--\u001b[0m\n",
      "\u001b[?25h  Installing build dependencies ... \u001b[?25ldone\n",
      "\u001b[?25h  Getting requirements to build wheel ... \u001b[?25ldone\n",
      "\u001b[?25h  Preparing metadata (pyproject.toml) ... \u001b[?25ldone\n",
      "\u001b[?25hCollecting asgiref\n",
      "  Downloading asgiref-3.7.2-py3-none-any.whl (24 kB)\n",
      "Requirement already satisfied: fastapi in /Users/vchintalapati/enter/lib/python3.10/site-packages (from modal) (0.94.0)\n",
      "Requirement already satisfied: protobuf!=4.24.0,<5.0,>=3.19 in /Users/vchintalapati/enter/lib/python3.10/site-packages (from modal) (3.20.3)\n",
      "Collecting click>=8.1.0\n",
      "  Downloading click-8.1.7-py3-none-any.whl (97 kB)\n",
      "\u001b[2K     \u001b[90m━━━━━━━━━━━━━━━━━━━━━━━━━━━━━━━━━━━━━━━━\u001b[0m \u001b[32m97.9/97.9 kB\u001b[0m \u001b[31m1.2 MB/s\u001b[0m eta \u001b[36m0:00:00\u001b[0ma \u001b[36m0:00:01\u001b[0m\n",
      "\u001b[?25hCollecting aiostream\n",
      "  Downloading aiostream-0.4.5-py3-none-any.whl (35 kB)\n",
      "Requirement already satisfied: tblib>=1.7.0 in /Users/vchintalapati/enter/lib/python3.10/site-packages (from modal) (1.7.0)\n",
      "Requirement already satisfied: rich>=12.0.0 in /Users/vchintalapati/enter/lib/python3.10/site-packages (from modal) (13.5.1)\n",
      "Requirement already satisfied: importlib-metadata>=3.6.0 in /Users/vchintalapati/enter/lib/python3.10/site-packages (from modal) (4.11.3)\n",
      "Requirement already satisfied: cloudpickle<2.1.0,>=2.0.0 in /Users/vchintalapati/enter/lib/python3.10/site-packages (from modal) (2.0.0)\n",
      "Requirement already satisfied: toml in /Users/vchintalapati/enter/lib/python3.10/site-packages (from modal) (0.10.2)\n",
      "Requirement already satisfied: typing-extensions~=4.6 in /Users/vchintalapati/enter/lib/python3.10/site-packages (from modal) (4.7.1)\n",
      "Collecting typer~=0.9.0\n",
      "  Downloading typer-0.9.0-py3-none-any.whl (45 kB)\n",
      "\u001b[2K     \u001b[90m━━━━━━━━━━━━━━━━━━━━━━━━━━━━━━━━━━━━━━━━\u001b[0m \u001b[32m45.9/45.9 kB\u001b[0m \u001b[31m4.0 MB/s\u001b[0m eta \u001b[36m0:00:00\u001b[0m\n",
      "\u001b[?25hRequirement already satisfied: watchfiles in /Users/vchintalapati/enter/lib/python3.10/site-packages (from modal) (0.19.0)\n",
      "Collecting synchronicity~=0.5.3\n",
      "  Downloading synchronicity-0.5.3-py3-none-any.whl (23 kB)\n",
      "Collecting types-certifi\n",
      "  Downloading types_certifi-2021.10.8.3-py3-none-any.whl (2.1 kB)\n",
      "Requirement already satisfied: aiohttp in /Users/vchintalapati/enter/lib/python3.10/site-packages (from modal) (3.8.3)\n",
      "Requirement already satisfied: certifi in /Users/vchintalapati/enter/lib/python3.10/site-packages (from modal) (2023.5.7)\n",
      "Collecting types-toml\n",
      "  Downloading types_toml-0.10.8.7-py3-none-any.whl (4.6 kB)\n",
      "Collecting h2<5,>=3.1.0\n",
      "  Downloading h2-4.1.0-py3-none-any.whl (57 kB)\n",
      "\u001b[2K     \u001b[90m━━━━━━━━━━━━━━━━━━━━━━━━━━━━━━━━━━━━━━━━\u001b[0m \u001b[32m57.5/57.5 kB\u001b[0m \u001b[31m5.2 MB/s\u001b[0m eta \u001b[36m0:00:00\u001b[0m\n",
      "\u001b[?25hRequirement already satisfied: multidict in /Users/vchintalapati/enter/lib/python3.10/site-packages (from grpclib==0.4.3->modal) (6.0.4)\n",
      "Requirement already satisfied: zipp>=0.5 in /Users/vchintalapati/enter/lib/python3.10/site-packages (from importlib-metadata>=3.6.0->modal) (3.11.0)\n",
      "Requirement already satisfied: pygments<3.0.0,>=2.13.0 in /Users/vchintalapati/enter/lib/python3.10/site-packages (from rich>=12.0.0->modal) (2.15.1)\n",
      "Requirement already satisfied: markdown-it-py>=2.2.0 in /Users/vchintalapati/enter/lib/python3.10/site-packages (from rich>=12.0.0->modal) (2.2.0)\n",
      "Collecting sigtools==4.0.1\n",
      "  Downloading sigtools-4.0.1-py2.py3-none-any.whl (76 kB)\n",
      "\u001b[2K     \u001b[90m━━━━━━━━━━━━━━━━━━━━━━━━━━━━━━━━━━━━━━━\u001b[0m \u001b[32m76.4/76.4 kB\u001b[0m \u001b[31m859.1 kB/s\u001b[0m eta \u001b[36m0:00:00\u001b[0ma \u001b[36m0:00:01\u001b[0m\n",
      "\u001b[?25hRequirement already satisfied: attrs in /Users/vchintalapati/enter/lib/python3.10/site-packages (from sigtools==4.0.1->synchronicity~=0.5.3->modal) (23.1.0)\n",
      "Requirement already satisfied: yarl<2.0,>=1.0 in /Users/vchintalapati/enter/lib/python3.10/site-packages (from aiohttp->modal) (1.9.2)\n",
      "Requirement already satisfied: async-timeout<5.0,>=4.0.0a3 in /Users/vchintalapati/enter/lib/python3.10/site-packages (from aiohttp->modal) (4.0.2)\n",
      "Requirement already satisfied: frozenlist>=1.1.1 in /Users/vchintalapati/enter/lib/python3.10/site-packages (from aiohttp->modal) (1.3.3)\n",
      "Requirement already satisfied: aiosignal>=1.1.2 in /Users/vchintalapati/enter/lib/python3.10/site-packages (from aiohttp->modal) (1.3.1)\n",
      "Requirement already satisfied: charset-normalizer<3.0,>=2.0 in /Users/vchintalapati/enter/lib/python3.10/site-packages (from aiohttp->modal) (2.1.1)\n",
      "Requirement already satisfied: starlette<0.27.0,>=0.26.0 in /Users/vchintalapati/enter/lib/python3.10/site-packages (from fastapi->modal) (0.26.0.post1)\n",
      "Requirement already satisfied: pydantic!=1.7,!=1.7.1,!=1.7.2,!=1.7.3,!=1.8,!=1.8.1,<2.0.0,>=1.6.2 in /Users/vchintalapati/enter/lib/python3.10/site-packages (from fastapi->modal) (1.10.6)\n",
      "Requirement already satisfied: anyio>=3.0.0 in /Users/vchintalapati/enter/lib/python3.10/site-packages (from watchfiles->modal) (3.6.2)\n",
      "Requirement already satisfied: sniffio>=1.1 in /Users/vchintalapati/enter/lib/python3.10/site-packages (from anyio>=3.0.0->watchfiles->modal) (1.3.0)\n",
      "Requirement already satisfied: idna>=2.8 in /Users/vchintalapati/enter/lib/python3.10/site-packages (from anyio>=3.0.0->watchfiles->modal) (3.4)\n",
      "Collecting hpack<5,>=4.0\n",
      "  Downloading hpack-4.0.0-py3-none-any.whl (32 kB)\n",
      "Collecting hyperframe<7,>=6.0\n",
      "  Downloading hyperframe-6.0.1-py3-none-any.whl (12 kB)\n",
      "Requirement already satisfied: mdurl~=0.1 in /Users/vchintalapati/enter/lib/python3.10/site-packages (from markdown-it-py>=2.2.0->rich>=12.0.0->modal) (0.1.2)\n",
      "Building wheels for collected packages: grpclib\n",
      "  Building wheel for grpclib (pyproject.toml) ... \u001b[?25ldone\n",
      "\u001b[?25h  Created wheel for grpclib: filename=grpclib-0.4.3-py3-none-any.whl size=77058 sha256=2e250f993d09c3e750a039ce973d0d53022322b9838c4262e97fc5f9f0765f74\n",
      "  Stored in directory: /Users/vchintalapati/Library/Caches/pip/wheels/e0/49/4d/31aa7f3f43e9833b8e79204457b404ad4434fc2278a32fa9f1\n",
      "Successfully built grpclib\n",
      "Installing collected packages: types-toml, types-certifi, aiostream, sigtools, hyperframe, hpack, click, asgiref, typer, synchronicity, h2, grpclib, modal\n",
      "  Attempting uninstall: click\n",
      "    Found existing installation: click 8.0.4\n",
      "    Uninstalling click-8.0.4:\n",
      "      Successfully uninstalled click-8.0.4\n",
      "Successfully installed aiostream-0.4.5 asgiref-3.7.2 click-8.1.7 grpclib-0.4.3 h2-4.1.0 hpack-4.0.0 hyperframe-6.0.1 modal-0.52.3439 sigtools-4.0.1 synchronicity-0.5.3 typer-0.9.0 types-certifi-2021.10.8.3 types-toml-0.10.8.7\n",
      "\u001b[?25lLaunching login page in your browser window\u001b[33m...\u001b[0m\n",
      "\u001b[2KIf this is not showing up, please copy this URL into your web browser manually:\n",
      "\u001b[2Km⠸\u001b[0m Waiting for authentication in the web browser...\n",
      "\u001b]8;id=967548;https://modal.com/token-flow/tf-ixGky6NVPvIxMZbC3rmnVc\u001b\\\u001b[4;94mhttps://modal.com/token-flow/tf-ixGky6NVPvIxMZbC3rmnVc\u001b[0m\u001b]8;;\u001b\\\n",
      "\n",
      "\u001b[2K\u001b[32m⠸\u001b[0m Waiting for authentication in the web browser...\n",
      "\u001b[1A\u001b[2K\u001b[32mSuccess!\u001b[0m\n",
      "Verifying token against \u001b[4;34mhttps://api.modal.com\u001b[0m\n",
      "\u001b[32mToken verified successfully\u001b[0m\n",
      "Token written to \u001b[35m/Users/vchintalapati/\u001b[0m\u001b[95m.modal.toml\u001b[0m\n"
     ]
    }
   ],
   "source": [
    "!pip install modal\n",
    "!modal token new"
   ]
  },
  {
   "cell_type": "code",
   "execution_count": 3,
   "id": "4e55e0ec",
   "metadata": {},
   "outputs": [],
   "source": [
    "import modal\n",
    "\n",
    "stub = modal.Stub(\"example-get-started\")\n",
    "\n",
    "\n",
    "@stub.function()\n",
    "def square(x):\n",
    "    print(\"This code is running on a remote worker!\")\n",
    "    return x**2\n",
    "\n",
    "\n",
    "@stub.local_entrypoint()\n",
    "def main():\n",
    "    print(\"the square is\", square.remote(42))\n"
   ]
  },
  {
   "cell_type": "code",
   "execution_count": 5,
   "id": "2c5b75d7",
   "metadata": {
    "scrolled": true
   },
   "outputs": [
    {
     "name": "stdout",
     "output_type": "stream",
     "text": [
      "This code is running on a remote worker!\n"
     ]
    },
    {
     "name": "stderr",
     "output_type": "stream",
     "text": [
      "/var/folders/r5/fwvsqg5511g8mzwgqbptxh5h0000gs/T/ipykernel_29213/2288040096.py:1: DeprecationError: 2023-08-16: Calling Modal functions like `f(...)` is deprecated. Use `f.local(...)` if you want to call the function in the same Python process. Use `f.remote(...)` if you want to call the function in a Modal container in the cloud\n",
      "  square(5)\n"
     ]
    },
    {
     "data": {
      "text/plain": [
       "25"
      ]
     },
     "execution_count": 5,
     "metadata": {},
     "output_type": "execute_result"
    }
   ],
   "source": [
    "square(5)"
   ]
  },
  {
   "cell_type": "code",
   "execution_count": 14,
   "id": "7a5aada3",
   "metadata": {},
   "outputs": [
    {
     "name": "stdout",
     "output_type": "stream",
     "text": [
      "^C\r\n"
     ]
    }
   ],
   "source": [
    "!cat > get_started.py"
   ]
  },
  {
   "cell_type": "code",
   "execution_count": 10,
   "id": "24e08fa3",
   "metadata": {},
   "outputs": [
    {
     "name": "stdout",
     "output_type": "stream",
     "text": [
      "\u001b[1;31mNo function was specified, and no \u001b[0m\u001b[1;32m`stub`\u001b[0m\u001b[1;31m variable could be found in \u001b[0m\r\n",
      "\u001b[1;31m'get_started.py'\u001b[0m\u001b[1;31m.\u001b[0m\r\n",
      "\r\n",
      "Usage:\r\n",
      "modal run \u001b[1m<\u001b[0m\u001b[1;95mfile_or_module_path\u001b[0m\u001b[39m>::<function_name\u001b[0m\u001b[1m>\u001b[0m\r\n",
      "\r\n",
      "Given the following example `app.py`:\r\n",
      "```\r\n",
      "stub = \u001b[1;35mmodal.Stub\u001b[0m\u001b[1m(\u001b[0m\u001b[1m)\u001b[0m\r\n",
      "\r\n",
      "@\u001b[1;35mstub.function\u001b[0m\u001b[1m(\u001b[0m\u001b[1m)\u001b[0m\r\n",
      "def \u001b[1;35mfoo\u001b[0m\u001b[1m(\u001b[0m\u001b[1m)\u001b[0m:\r\n",
      "    \u001b[33m...\u001b[0m\r\n",
      "```\r\n",
      "You would run foo as \u001b[1;32mmodal run app.py::foo\u001b[0m\r\n"
     ]
    }
   ],
   "source": [
    "!modal run get_started.py"
   ]
  },
  {
   "cell_type": "code",
   "execution_count": null,
   "id": "0e09f363",
   "metadata": {},
   "outputs": [],
   "source": []
  }
 ],
 "metadata": {
  "kernelspec": {
   "display_name": "Python 3 (ipykernel)",
   "language": "python",
   "name": "python3"
  },
  "language_info": {
   "codemirror_mode": {
    "name": "ipython",
    "version": 3
   },
   "file_extension": ".py",
   "mimetype": "text/x-python",
   "name": "python",
   "nbconvert_exporter": "python",
   "pygments_lexer": "ipython3",
   "version": "3.10.9"
  }
 },
 "nbformat": 4,
 "nbformat_minor": 5
}
